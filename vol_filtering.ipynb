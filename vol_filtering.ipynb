{
 "cells": [
  {
   "cell_type": "code",
   "execution_count": null,
   "id": "c4cb46b6",
   "metadata": {},
   "outputs": [],
   "source": [
    "#colab - drive libaries\n",
    "\n",
    "import pandas as pd\n",
    "from google.colab import drive\n",
    "import os\n",
    "drive.mount('/content/drive')\n",
    "\n",
    "import polars as pl"
   ]
  },
  {
   "cell_type": "code",
   "execution_count": null,
   "id": "2be37b7e",
   "metadata": {},
   "outputs": [],
   "source": [
    "vol = '/content/drive/MyDrive/Dissertation/vol_surf.csv' #you should download the volatility surface with instructions from the read.me file\n",
    "tickers = '/content/drive/MyDrive/Dissertation/sp500_monthly_tickers_2005_2022.csv'"
   ]
  },
  {
   "cell_type": "code",
   "execution_count": null,
   "id": "3486b8f4",
   "metadata": {},
   "outputs": [],
   "source": [
    "df_tickers = pl.read_csv(tickers)\n",
    "df_tickers"
   ]
  },
  {
   "cell_type": "code",
   "execution_count": null,
   "id": "f37961c2",
   "metadata": {},
   "outputs": [],
   "source": [
    "df_vol = df_opts = pl.read_csv(vol,try_parse_dates=True,ignore_errors= True,low_memory=False)\n",
    "df_vol"
   ]
  },
  {
   "cell_type": "code",
   "execution_count": null,
   "id": "69ade10c",
   "metadata": {},
   "outputs": [],
   "source": [
    "sp = (\n",
    "    df_tickers\n",
    "    .with_columns([\n",
    "        pl.col(\"date\")\n",
    "          .str.strip_chars('\"')\n",
    "          .str.strptime(pl.Date, \"%Y-%m-%d\")\n",
    "          .alias(\"month\"),\n",
    "        pl.col(\"tickers\")\n",
    "          .str.replace_all('\"', \"\")\n",
    "          .str.split(\",\")\n",
    "          .alias(\"tickers_list\"),\n",
    "    ])\n",
    "    .select([\"month\", \"tickers_list\"])\n",
    "    .explode(\"tickers_list\")\n",
    "    .with_columns(pl.col(\"tickers_list\").str.strip_chars().alias(\"ticker\"))\n",
    "    .select([\"month\", \"ticker\"])\n",
    "    .unique()\n",
    ")\n"
   ]
  },
  {
   "cell_type": "code",
   "execution_count": null,
   "id": "36a8b2d1",
   "metadata": {},
   "outputs": [],
   "source": [
    "vol_m = (\n",
    "    df_vol\n",
    "    .with_columns([\n",
    "        pl.col(\"date\").dt.month_start().alias(\"month\"),\n",
    "        pl.col(\"ticker\").str.strip_chars('\"').alias(\"ticker\") \n",
    "    ])\n",
    ")"
   ]
  },
  {
   "cell_type": "code",
   "execution_count": null,
   "id": "5ae4faf8",
   "metadata": {},
   "outputs": [],
   "source": [
    "vol_filtered = (\n",
    "    vol_m.lazy()\n",
    "        .join(sp.lazy(), on=[\"month\", \"ticker\"], how=\"semi\")\n",
    "        .collect(streaming=True)\n",
    ")"
   ]
  },
  {
   "cell_type": "code",
   "execution_count": null,
   "id": "ac6b24bd",
   "metadata": {},
   "outputs": [],
   "source": [
    "vol_filtered"
   ]
  },
  {
   "cell_type": "code",
   "execution_count": null,
   "id": "467287b3",
   "metadata": {},
   "outputs": [],
   "source": [
    "vol_filtered.write_parquet('/content/drive/MyDrive/Dissertation/vol_filt_5_22.parquet',\n",
    "    compression='snappy') #save the file "
   ]
  }
 ],
 "metadata": {
  "language_info": {
   "name": "python"
  }
 },
 "nbformat": 4,
 "nbformat_minor": 5
}
